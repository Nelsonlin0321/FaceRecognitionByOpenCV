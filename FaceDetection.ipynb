{
 "cells": [
  {
   "cell_type": "code",
   "execution_count": 2,
   "metadata": {
    "collapsed": true
   },
   "outputs": [],
   "source": [
    "import numpy as np\n",
    "import cv2"
   ]
  },
  {
   "cell_type": "markdown",
   "metadata": {},
   "source": [
    "##### 创建分类器："
   ]
  },
  {
   "cell_type": "code",
   "execution_count": 3,
   "metadata": {
    "collapsed": true
   },
   "outputs": [],
   "source": [
    "# 级联分类器\n",
    "detector = cv2.CascadeClassifier('haarcascade_frontalface_alt.xml')"
   ]
  },
  {
   "cell_type": "code",
   "execution_count": null,
   "metadata": {
    "collapsed": false
   },
   "outputs": [],
   "source": [
    "# 从摄像头获取图像数据\n",
    "## 创建摄像头对象\n",
    "cap = cv2.VideoCapture(0) ### 0 为摄像头获取数据\n",
    "\n",
    "while(True):\n",
    "    # ret 读取成功True或失败Falseq\n",
    "    # frame读取到的图像的内容\n",
    "    # 读取一帧数据\n",
    "    ret,frame = cap.read()\n",
    "    # 变为灰度图\n",
    "    gray = cv2.cvtColor(frame,cv2.COLOR_BGR2GRAY)\n",
    "    ## face Detection\n",
    "    rects = detector.detectMultiScale(gray, scaleFactor=1.1, minNeighbors=3, minSize=(10,10), flags=cv2.CASCADE_SCALE_IMAGE)\n",
    "    for (x,y,w,h) in rects:\n",
    "        # 画矩形框\n",
    "        temp = cv2.rectangle(frame,(x,y), (x+w,y+h), (0,255,0), 2)\n",
    "    cv2.imshow('frame',frame)\n",
    "    # waitKey功能是不断刷新图像，单位ms，返回值是当前键盘按键值\n",
    "    # ord返回对应的ASCII数值\n",
    "    if cv2.waitKey(10) & 0xff == ord('q'):\n",
    "        break\n",
    "cap.release()\n",
    "cv2.destroyAllWindows()"
   ]
  },
  {
   "cell_type": "code",
   "execution_count": null,
   "metadata": {
    "collapsed": true
   },
   "outputs": [],
   "source": []
  }
 ],
 "metadata": {
  "kernelspec": {
   "display_name": "Python [Root]",
   "language": "python",
   "name": "Python [Root]"
  },
  "language_info": {
   "codemirror_mode": {
    "name": "ipython",
    "version": 3
   },
   "file_extension": ".py",
   "mimetype": "text/x-python",
   "name": "python",
   "nbconvert_exporter": "python",
   "pygments_lexer": "ipython3",
   "version": "3.5.2"
  }
 },
 "nbformat": 4,
 "nbformat_minor": 0
}
